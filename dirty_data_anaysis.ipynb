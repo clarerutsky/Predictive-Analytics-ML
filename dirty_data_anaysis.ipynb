{
 "cells": [
  {
   "cell_type": "code",
   "execution_count": null,
   "id": "849aff90",
   "metadata": {},
   "outputs": [],
   "source": [
    " #-----------Monster Analysis---------------------------\n"
   ]
  },
  {
   "cell_type": "code",
   "execution_count": null,
   "id": "07af807a",
   "metadata": {},
   "outputs": [],
   "source": [
    "import pandas as pd\n",
    "import numpy as np"
   ]
  },
  {
   "cell_type": "code",
   "execution_count": null,
   "id": "389b5cd0",
   "metadata": {},
   "outputs": [],
   "source": [
    "data = pd.read_csv(\"C:\\\\Users\\\\Kasutaja\\\\Downloads\\\\monster_com-job_sample.csv\")\n",
    "data.iloc[0:2]"
   ]
  },
  {
   "cell_type": "code",
   "execution_count": null,
   "id": "a1c1aef5",
   "metadata": {},
   "outputs": [],
   "source": [
    "data.info()"
   ]
  },
  {
   "cell_type": "code",
   "execution_count": null,
   "id": "98b0ed6c",
   "metadata": {},
   "outputs": [],
   "source": [
    "data = data.drop(['country','country_code','job_board','has_expired'], axis = 1)"
   ]
  },
  {
   "cell_type": "code",
   "execution_count": null,
   "id": "aece2463",
   "metadata": {},
   "outputs": [],
   "source": [
    "data = data.drop(['page_url','uniq_id'], axis = 1)"
   ]
  },
  {
   "cell_type": "code",
   "execution_count": null,
   "id": "a4d66a8d",
   "metadata": {},
   "outputs": [],
   "source": [
    "\n",
    "\"\"\"\"datat = data.location.unique()\n",
    "loc_con = {}\n",
    "for i in range(len(datat)):\n",
    "    loc_con[i] = datat[i]\n",
    "for k in data.organization.keys():\n",
    "    temp = data.organization[k]\n",
    "    data.organization[k] = data.location[k]\n",
    "    loc_con[k] = data.organization[k]\"\"\""
   ]
  },
  {
   "cell_type": "code",
   "execution_count": null,
   "id": "b5742643",
   "metadata": {},
   "outputs": [],
   "source": [
    "data.head(3)"
   ]
  },
  {
   "cell_type": "code",
   "execution_count": null,
   "id": "86ff1330",
   "metadata": {},
   "outputs": [],
   "source": [
    "#swapping data in two columns\n",
    "chec = data.location.unique()\n",
    "uniq_loc = {}\n",
    "for i in range(len(chec)):\n",
    "    uniq_loc[i] = chec[i]\n",
    "for k in data.organization.keys():\n",
    "    if data.organization[k] in chec:\n",
    "        temp = data.organization[k]\n",
    "        data.organization[k] = data.location[k]\n",
    "        data.location[k] =temp"
   ]
  },
  {
   "cell_type": "code",
   "execution_count": null,
   "id": "1ee3d8fc",
   "metadata": {
    "scrolled": true
   },
   "outputs": [],
   "source": [
    "data"
   ]
  },
  {
   "cell_type": "code",
   "execution_count": null,
   "id": "6f23d1d3",
   "metadata": {},
   "outputs": [],
   "source": [
    "\"\"\"\n",
    "#delete value after split delimiter\n",
    "data['location'] = data['location'].astype(str)\n",
    "location =data['location'].str.split(',')\n",
    "data['location'] = location.str[0]\"\"\""
   ]
  },
  {
   "cell_type": "code",
   "execution_count": null,
   "id": "91b8087e",
   "metadata": {},
   "outputs": [],
   "source": [
    "dast = [data['location'].str.slice(0,10) if len(data['location']) > 20 else data['location'].str.split(\",\") ]"
   ]
  },
  {
   "cell_type": "code",
   "execution_count": null,
   "id": "c5947dd3",
   "metadata": {},
   "outputs": [],
   "source": [
    "dast"
   ]
  },
  {
   "cell_type": "code",
   "execution_count": null,
   "id": "a8e3cbb3",
   "metadata": {
    "scrolled": true
   },
   "outputs": [],
   "source": [
    "\n",
    "data = data[data['location'].apply(lambda x:len(x) < 20)]\n",
    "location =data['location'].str.split(',')\n",
    "data['location'] = location.str[0]\n"
   ]
  },
  {
   "cell_type": "code",
   "execution_count": null,
   "id": "6e831520",
   "metadata": {},
   "outputs": [],
   "source": [
    "# I assume the location field won't be having characters more than 20\n",
    "data['location']"
   ]
  },
  {
   "cell_type": "code",
   "execution_count": null,
   "id": "aeae844d",
   "metadata": {},
   "outputs": [],
   "source": []
  },
  {
   "cell_type": "code",
   "execution_count": null,
   "id": "0a7ae670",
   "metadata": {},
   "outputs": [],
   "source": [
    "\"\"\"\n",
    "# Sample DataFrame\n",
    "data = {'text': ['This is a long text', 'Short text', 'Another long text']}\n",
    "df = pd.DataFrame(data)\n",
    "\n",
    "# Define a function to truncate text\n",
    "def truncate_text(text, length=10):\n",
    "    return text[:length]\n",
    "\n",
    "# Apply the function to the 'text' column\n",
    "df['text'] = df['text'].apply(truncate_text)\n",
    "\n",
    "print(df)\n",
    "\"\"\""
   ]
  },
  {
   "cell_type": "code",
   "execution_count": null,
   "id": "4758c4a9",
   "metadata": {},
   "outputs": [],
   "source": [
    "#In Location column, instead of city name there i s a zip code. I am deleting those rows which have zip code. For that I used regex, it will match the below pattern and the numeric rows will be deleted\n"
   ]
  }
 ],
 "metadata": {
  "kernelspec": {
   "display_name": "Python 3 (ipykernel)",
   "language": "python",
   "name": "python3"
  },
  "language_info": {
   "codemirror_mode": {
    "name": "ipython",
    "version": 3
   },
   "file_extension": ".py",
   "mimetype": "text/x-python",
   "name": "python",
   "nbconvert_exporter": "python",
   "pygments_lexer": "ipython3",
   "version": "3.11.5"
  }
 },
 "nbformat": 4,
 "nbformat_minor": 5
}
