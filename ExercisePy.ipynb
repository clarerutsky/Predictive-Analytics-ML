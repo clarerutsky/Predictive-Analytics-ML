{
 "cells": [
  {
   "cell_type": "code",
   "execution_count": 2,
   "id": "740ad82a",
   "metadata": {},
   "outputs": [
    {
     "name": "stdout",
     "output_type": "stream",
     "text": [
      "the result  600\n",
      " the result: 70\n"
     ]
    }
   ],
   "source": [
    "#Exercise 1: Calculate the multiplication and sum of two numbers\n",
    "def multply_sum(num1, num2):\n",
    "    product = num1 * num2\n",
    "    if product <= 1000:\n",
    "        return product\n",
    "    else:\n",
    "        return num1 + num2\n",
    "result = multply_sum(20, 30)\n",
    "print(\"the result \", result)\n",
    "#------------------------------\n",
    "print(f\" the result: {multply_sum(40, 30)}\")"
   ]
  },
  {
   "cell_type": "code",
   "execution_count": 33,
   "id": "fe6b379e",
   "metadata": {},
   "outputs": [
    {
     "name": "stdout",
     "output_type": "stream",
     "text": [
      "current:  1 previous:  0 sum:  1\n",
      "current:  2 previous:  1 sum:  3\n",
      "current:  3 previous:  2 sum:  5\n",
      "current:  4 previous:  3 sum:  7\n",
      "current:  5 previous:  4 sum:  9\n",
      "current:  6 previous:  5 sum:  11\n",
      "current:  7 previous:  6 sum:  13\n",
      "current:  8 previous:  7 sum:  15\n",
      "current:  9 previous:  8 sum:  17\n",
      "current:  10 previous:  9 sum:  19\n"
     ]
    }
   ],
   "source": [
    "#Exercise 2: Print the sum of the current number and the previous number\n",
    "prev = 0\n",
    "for i in range(1,11):\n",
    "    x_sum = prev + i\n",
    "    print(\"current: \",i,\"previous: \", prev,\"sum: \", x_sum)\n",
    "    prev = i"
   ]
  },
  {
   "cell_type": "code",
   "execution_count": 14,
   "id": "0dc2cf2c",
   "metadata": {},
   "outputs": [
    {
     "name": "stdout",
     "output_type": "stream",
     "text": [
      "prev 0 curr 0 sum 0\n",
      "prev 0 curr 1 sum 1\n",
      "prev 1 curr 2 sum 3\n",
      "prev 2 curr 3 sum 5\n",
      "prev 3 curr 4 sum 7\n",
      "prev 4 curr 5 sum 9\n",
      "prev 5 curr 6 sum 11\n",
      "prev 6 curr 7 sum 13\n",
      "prev 7 curr 8 sum 15\n",
      "prev 8 curr 9 sum 17\n"
     ]
    }
   ],
   "source": [
    "p = 0\n",
    "for i in range(10):\n",
    "    sumx = p + i \n",
    "    print(\"prev\",p,\"curr\",i, \"sum\",sumx)\n",
    "    p = i"
   ]
  },
  {
   "cell_type": "code",
   "execution_count": 28,
   "id": "3bd3e762",
   "metadata": {},
   "outputs": [
    {
     "name": "stdout",
     "output_type": "stream",
     "text": [
      "p\n",
      "n\n",
      "t\n",
      "v\n"
     ]
    }
   ],
   "source": [
    "#Exercise 3: Print characters from a string that are present at an even index number\n",
    "strs = \"pynative\"\n",
    "for i in strs[0::2]:\n",
    "   print(i)"
   ]
  },
  {
   "cell_type": "code",
   "execution_count": 31,
   "id": "53284127",
   "metadata": {},
   "outputs": [
    {
     "name": "stdout",
     "output_type": "stream",
     "text": [
      "index[ 0 ] p\n",
      "index[ 2 ] n\n",
      "index[ 4 ] t\n",
      "index[ 6 ] v\n"
     ]
    }
   ],
   "source": [
    "#Exercise 3: Print characters from a string that are present at an even index number\n",
    "strs = \"pynative\"\n",
    "size = len(strs)\n",
    "for i in range(0,size-1,2):\n",
    "   print(\"index[\",i,\"]\", strs[i])"
   ]
  },
  {
   "cell_type": "code",
   "execution_count": 44,
   "id": "858bce18",
   "metadata": {},
   "outputs": [
    {
     "name": "stdout",
     "output_type": "stream",
     "text": [
      "Original Jaminses \n",
      "nses \n"
     ]
    }
   ],
   "source": [
    "#Exercise 4: Remove first n characters from a string\n",
    "def remov_char(word, n):\n",
    "    print('Original', word)\n",
    "    x = word[n:]\n",
    "    return x\n",
    "print(remov_char(\"Jaminses \", 4))"
   ]
  },
  {
   "cell_type": "code",
   "execution_count": 51,
   "id": "7e8c2dea",
   "metadata": {},
   "outputs": [
    {
     "ename": "TypeError",
     "evalue": "slice indices must be integers or None or have an __index__ method",
     "output_type": "error",
     "traceback": [
      "\u001b[1;31m---------------------------------------------------------------------------\u001b[0m",
      "\u001b[1;31mTypeError\u001b[0m                                 Traceback (most recent call last)",
      "Cell \u001b[1;32mIn[51], line 3\u001b[0m\n\u001b[0;32m      1\u001b[0m x \u001b[38;5;241m=\u001b[39m \u001b[38;5;124m\"\u001b[39m\u001b[38;5;124mword\u001b[39m\u001b[38;5;124m\"\u001b[39m\n\u001b[0;32m      2\u001b[0m z \u001b[38;5;241m=\u001b[39m \u001b[38;5;124m\"\u001b[39m\u001b[38;5;124m \u001b[39m\u001b[38;5;124m\"\u001b[39m\n\u001b[1;32m----> 3\u001b[0m y \u001b[38;5;241m=\u001b[39m z[x:]\n",
      "\u001b[1;31mTypeError\u001b[0m: slice indices must be integers or None or have an __index__ method"
     ]
    }
   ],
   "source": [
    "x = \"word\"\n",
    "z = \" \"\n",
    "y = z[x:]"
   ]
  },
  {
   "cell_type": "code",
   "execution_count": 65,
   "id": "164a3ba9",
   "metadata": {},
   "outputs": [
    {
     "name": "stdout",
     "output_type": "stream",
     "text": [
      "[5, 10, 20]\n"
     ]
    }
   ],
   "source": [
    "#Display numbers divisible by 5 from a list\n",
    "#    2nd way\n",
    "a = [5,7,10,20,4,6]\n",
    "sent = list(filter(lambda x : (x % 5) == 0, a))\n",
    "print(a)"
   ]
  },
  {
   "cell_type": "code",
   "execution_count": 107,
   "id": "40a32827",
   "metadata": {},
   "outputs": [
    {
     "name": "stdout",
     "output_type": "stream",
     "text": [
      "[True, False, False, False, False, True]\n"
     ]
    }
   ],
   "source": [
    "sent = [( i % 5 == 0) for i in range(len(a))]\n",
    "print(sent)\n"
   ]
  },
  {
   "cell_type": "code",
   "execution_count": 108,
   "id": "6d2306e5",
   "metadata": {},
   "outputs": [
    {
     "name": "stdout",
     "output_type": "stream",
     "text": [
      "5\n",
      "10\n",
      "20\n"
     ]
    }
   ],
   "source": [
    "num_list =[5,7,10,20,4,6]\n",
    "for num in num_list:\n",
    "    if num % 5 == 0:\n",
    "        print(num)"
   ]
  },
  {
   "cell_type": "code",
   "execution_count": 88,
   "id": "75dc4d3f",
   "metadata": {},
   "outputs": [
    {
     "name": "stdout",
     "output_type": "stream",
     "text": [
      "1\n"
     ]
    }
   ],
   "source": [
    "#Return the count of a given substring from a string\n",
    "strt = \"Emma is good developer. Emma is a writer\"\n",
    "print(strt.count(\"developer\"))"
   ]
  },
  {
   "cell_type": "code",
   "execution_count": 97,
   "id": "d4ad92d6",
   "metadata": {},
   "outputs": [
    {
     "name": "stdout",
     "output_type": "stream",
     "text": [
      "Given String:  Emma is good developer. Emma is a writer is\n",
      "Emma appeared  3 times\n"
     ]
    }
   ],
   "source": [
    "#Solution 2: Without string method\n",
    "\n",
    "def count_emma(s):\n",
    "    print(\"Given String: \", s)\n",
    "    cout = 0\n",
    "    for i in range(len(s)-1):\n",
    "        #count += s[i: i + 4] == 'Emma'\n",
    "        cout += s[i: i + 2] == 'is'\n",
    "    return cout\n",
    "count = count_emma(\"Emma is good developer. Emma is a writer is\")\n",
    "print(\"Emma appeared \", count, \"times\")    "
   ]
  },
  {
   "cell_type": "code",
   "execution_count": 33,
   "id": "d8623197",
   "metadata": {},
   "outputs": [
    {
     "name": "stdout",
     "output_type": "stream",
     "text": [
      "2\n"
     ]
    }
   ],
   "source": [
    "def sen(y):\n",
    "    x = 0\n",
    "    for i in range(len(y)-1):\n",
    "        x +=  y[i: i + 3] == \"bad\"\n",
    "    return x\n",
    "print(sen(\"bad is as good as bad\"))\n",
    "    "
   ]
  },
  {
   "cell_type": "code",
   "execution_count": 114,
   "id": "2b80ae8e",
   "metadata": {},
   "outputs": [
    {
     "data": {
      "text/plain": [
       "[1, 3, 5, 7, 9]"
      ]
     },
     "execution_count": 114,
     "metadata": {},
     "output_type": "execute_result"
    }
   ],
   "source": [
    "x = [i for i in range(10) if i % 2 != 0]\n",
    "x"
   ]
  },
  {
   "cell_type": "code",
   "execution_count": 134,
   "id": "e4546eaf",
   "metadata": {},
   "outputs": [
    {
     "name": "stdout",
     "output_type": "stream",
     "text": [
      "G\n",
      "e\n",
      "e\n",
      "k\n",
      "s\n",
      " \n",
      "4\n",
      " \n",
      "G\n",
      "e\n",
      "e\n",
      "k\n",
      "s\n"
     ]
    }
   ],
   "source": [
    "Listbox = []\n",
    "for char in \"Geeks 4 Geeks\":\n",
    "     print(char)"
   ]
  },
  {
   "cell_type": "code",
   "execution_count": 3,
   "id": "00c48c95",
   "metadata": {},
   "outputs": [
    {
     "name": "stdout",
     "output_type": "stream",
     "text": [
      "['G', 'e', 'e', 'k', 's', ' ', '4', ' ', 'G', 'e', 'e', 'k', 's']\n"
     ]
    }
   ],
   "source": [
    "listbox = []\n",
    "for i in \"Geeks 4 Geeks\":\n",
    "    listbox.append(i)\n",
    "print(listbox)"
   ]
  },
  {
   "cell_type": "code",
   "execution_count": 5,
   "id": "8a2ecd39",
   "metadata": {},
   "outputs": [
    {
     "name": "stdout",
     "output_type": "stream",
     "text": [
      "[0, 1, 4, 9, 16, 25, 36, 49, 64, 81]\n"
     ]
    }
   ],
   "source": [
    "#compare  for loop and List Comprehension\n",
    "def for_loop(n):\n",
    "    box = []\n",
    "    for i in range(n):\n",
    "        box.append(i ** 2)\n",
    "    return box\n",
    "print(for_loop(10))"
   ]
  },
  {
   "cell_type": "code",
   "execution_count": 7,
   "id": "e7337557",
   "metadata": {},
   "outputs": [
    {
     "name": "stdout",
     "output_type": "stream",
     "text": [
      "[0, 1, 4, 9, 16, 25, 36, 49, 64, 81]\n"
     ]
    }
   ],
   "source": [
    "def list_comprehension(n):\n",
    "    return [i ** 2 for i in range(n)]\n",
    "print(list_comprehension(10))"
   ]
  },
  {
   "cell_type": "code",
   "execution_count": 31,
   "id": "3b0276b5",
   "metadata": {},
   "outputs": [
    {
     "name": "stdout",
     "output_type": "stream",
     "text": [
      " it took this time: 0.36 to run for loop\n",
      "it took this time:  0.36 to run for loop\n"
     ]
    }
   ],
   "source": [
    "#Time Analysis in  for loop and List Comprehension\n",
    "import time\n",
    "#calculate time\n",
    "begin = time.time()\n",
    "for_loop(17 ** 5)\n",
    "end = time.time()\n",
    "print(f\" it took this time: {end-begin:,.2f} to run for loop\")\n",
    "#----------------------------------------------------------------\n",
    "begin2 = time.time()\n",
    "list_comprehension(15 ** 2)\n",
    "end2 = time.time()\n",
    "print(\"it took this time: \", round(end2-begin,2),\"to run for loop\")"
   ]
  },
  {
   "cell_type": "code",
   "execution_count": 156,
   "id": "ed307463",
   "metadata": {},
   "outputs": [],
   "source": [
    "#Exercise 7: Return the count of a given substring from a string\n",
    "def wordline(word):\n",
    "    emp = 0\n",
    "    for i in range(len(word)-1):\n",
    "        emp += word[i: i + 7] == \"awesome\"\n",
    "    return emp"
   ]
  },
  {
   "cell_type": "code",
   "execution_count": 157,
   "id": "58adec27",
   "metadata": {},
   "outputs": [
    {
     "name": "stdout",
     "output_type": "stream",
     "text": [
      "3\n"
     ]
    }
   ],
   "source": [
    "print(wordline(\"awesome Welcome to you awesome people, and awesome place\"))"
   ]
  },
  {
   "cell_type": "code",
   "execution_count": 178,
   "id": "1a1781c6",
   "metadata": {},
   "outputs": [],
   "source": [
    "\"\"\" \n",
    "def wormm(n):\n",
    "    cont = []\n",
    "    for i in range(n):\n",
    "        cont.append(i)\n",
    "    return cont\n",
    "\n",
    "def wurms(n):\n",
    "    cont = \" \"\n",
    "    for i in n:\n",
    "        cont = i \n",
    "        print(cont)        \n",
    "    return cont\n",
    "print(wormm(9))\n",
    "print(wurms(\"goodgood\"))\n",
    "#--------------------------------\n",
    "cont = \" \"\n",
    "for i in \"gooonws\":\n",
    "    cont =i\n",
    "    print(cont)  \n",
    "#-------------------------------------------\n",
    "cont = []\n",
    "for i in range(5):\n",
    "    cont = i \n",
    "    print(cont)\n",
    "    #-------------------------------------\n",
    "def sente(x):\n",
    "    cont = \" \"\n",
    "    for i in x:\n",
    "        cont =i\n",
    "        print(cont) \n",
    "    return cont\n",
    "print(sente(\"goonws\"))\n",
    "    \"\"\""
   ]
  },
  {
   "cell_type": "code",
   "execution_count": 50,
   "id": "bda507b2",
   "metadata": {
    "scrolled": true
   },
   "outputs": [
    {
     "name": "stdout",
     "output_type": "stream",
     "text": [
      "\n",
      "\n",
      "1\n",
      "\n",
      "22\n",
      "\n",
      "333\n",
      "\n",
      "4444\n",
      "\n",
      "55555\n",
      "\n",
      "666666\n",
      "\n",
      "7777777\n",
      "\n",
      "88888888\n",
      "\n",
      "999999999\n",
      "\n"
     ]
    }
   ],
   "source": [
    "#Exercise 8: Print the following pattern\n",
    "\n",
    "for i in range(10):\n",
    "    for j in range(i):\n",
    "        print(i, end = \"\")\n",
    "    print(\"\\n\")\n"
   ]
  },
  {
   "cell_type": "code",
   "execution_count": 40,
   "id": "c3cf6366",
   "metadata": {},
   "outputs": [
    {
     "name": "stdout",
     "output_type": "stream",
     "text": [
      "1 2 2 3 3 3 4 4 4 4 5 5 5 5 5 6 6 6 6 6 6 7 7 7 7 7 7 7 8 8 8 8 8 8 8 8 9 9 9 9 9 9 9 9 9 "
     ]
    }
   ],
   "source": [
    "for i in range(10):\n",
    "    for j in range(i):\n",
    "        print(i, end = \" \")\n",
    "    #print(\"\\n\")"
   ]
  },
  {
   "cell_type": "code",
   "execution_count": 17,
   "id": "6ad76d24",
   "metadata": {},
   "outputs": [],
   "source": [
    "#Python Exercises » Python Basic Exercise for Beginners\n",
    "#A palindrome number is a number that is the same after reverse. For example, 545, is the palindrome numbers\n",
    "\n",
    "def palindrome(n):\n",
    "    print(\"orginal number: \",n)\n",
    "    original_num = n\n",
    "    #reverse the given  number\n",
    "    reverse_num = 0\n",
    "    while n > 0:\n",
    "        reminder = n % 10\n",
    "        reverse_num = (reverse_num * 10) + reminder\n",
    "        n = n //10\n",
    "    if original_num == reverse_num:\n",
    "        print(\"palidrome\")\n",
    "    else:\n",
    "        print(\"not a palindrome\")"
   ]
  },
  {
   "cell_type": "code",
   "execution_count": 18,
   "id": "4dd7f07a",
   "metadata": {},
   "outputs": [
    {
     "name": "stdout",
     "output_type": "stream",
     "text": [
      "orginal number:  121\n",
      "palidrome\n",
      "orginal number:  125\n",
      "not a palindrome\n"
     ]
    }
   ],
   "source": [
    "palindrome(121)\n",
    "palindrome(125)"
   ]
  },
  {
   "cell_type": "code",
   "execution_count": null,
   "id": "8a522f45",
   "metadata": {},
   "outputs": [],
   "source": [
    " #Exercise 10: Create a new list from two list using the following condition\n"
   ]
  },
  {
   "cell_type": "code",
   "execution_count": 26,
   "id": "8edd2456",
   "metadata": {},
   "outputs": [],
   "source": [
    "def palido(num):\n",
    "    orig = num\n",
    "    revers = 0\n",
    "    while num > 0:\n",
    "        remind = num % 10\n",
    "        revers = (revers * 10) + remind \n",
    "        num = num // 10\n",
    "    if orig == revers:\n",
    "        print(f\"is palindrome\")\n",
    "    else:\n",
    "              \n",
    "        print(f\" is not palindrome\")\n",
    "\n",
    "        \n",
    "            "
   ]
  },
  {
   "cell_type": "code",
   "execution_count": 28,
   "id": "bc8b1797",
   "metadata": {},
   "outputs": [
    {
     "name": "stdout",
     "output_type": "stream",
     "text": [
      "is palindrome\n"
     ]
    }
   ],
   "source": [
    "palido(121) \n"
   ]
  },
  {
   "cell_type": "code",
   "execution_count": 41,
   "id": "075ff547",
   "metadata": {},
   "outputs": [
    {
     "name": "stdout",
     "output_type": "stream",
     "text": [
      "dreadcreadbreadaread,read,read,\n"
     ]
    }
   ],
   "source": [
    "s = \"a,b,c,d\"\n",
    "p = \"read\".join(sorted(s,reverse = True))\n",
    "print(p)"
   ]
  },
  {
   "cell_type": "code",
   "execution_count": 22,
   "id": "97a6ef3f",
   "metadata": {},
   "outputs": [
    {
     "name": "stdout",
     "output_type": "stream",
     "text": [
      "6\n"
     ]
    }
   ],
   "source": [
    "def some(intNum):\n",
    "    for i in intNum:\n",
    "        reminder = i % 10\n",
    "        i = i // 10 \n",
    "    return reminder\n",
    "intNum = [7,5,3,6]\n",
    "print(some(intNum))\n",
    "\n",
    "\n"
   ]
  },
  {
   "cell_type": "code",
   "execution_count": 21,
   "id": "2bd9ef27",
   "metadata": {},
   "outputs": [
    {
     "name": "stdout",
     "output_type": "stream",
     "text": [
      "Given number 7896\n",
      "6 9 8 7 "
     ]
    }
   ],
   "source": [
    "number = 7896\n",
    "print(\"Given number\" ,number)\n",
    "while number > 0:\n",
    "    #get  the last diggit\n",
    "    digit = number % 10\n",
    "    #remove the last digit and repeat loop\n",
    "    number = number // 10\n",
    "    print(digit,end = \" \")"
   ]
  },
  {
   "cell_type": "code",
   "execution_count": 28,
   "id": "f9cb7f7d",
   "metadata": {
    "scrolled": true
   },
   "outputs": [
    {
     "name": "stdout",
     "output_type": "stream",
     "text": [
      "Given income  45000\n",
      "6000.0\n"
     ]
    }
   ],
   "source": [
    "# Calculate income tax for the given income by adhering to the rules below\n",
    "#For example, suppose the taxable income is 45000, and the income tax payable is\n",
    "\n",
    "income = 45000\n",
    "tax_payable = 0\n",
    "print(\"Given income \", income)\n",
    "if income <= 10000:\n",
    "    tax_payable = 0\n",
    "elif income  <= 20000:\n",
    "    #no tax first 10,000\n",
    "    x = income - 10000\n",
    "    #10% tax\n",
    "    tax_payable = x * 10 / 100\n",
    "else:\n",
    "    #first 10,000\n",
    "    tax_payable = 0\n",
    "        # next 10,000 10% tax\n",
    "    tax_payable = 10000 * 10/100\n",
    "    #remaining 20 % tax\n",
    "    tax_payable += (income - 20000) * 20/ 100\n",
    "print(tax_payable)"
   ]
  },
  {
   "cell_type": "code",
   "execution_count": 34,
   "id": "d03e324b",
   "metadata": {},
   "outputs": [
    {
     "name": "stdout",
     "output_type": "stream",
     "text": [
      "1 2 3 4 5 6 7 8 9 10 \t\t\n",
      "2 4 6 8 10 12 14 16 18 20 \t\t\n",
      "3 6 9 12 15 18 21 24 27 30 \t\t\n",
      "4 8 12 16 20 24 28 32 36 40 \t\t\n",
      "5 10 15 20 25 30 35 40 45 50 \t\t\n",
      "6 12 18 24 30 36 42 48 54 60 \t\t\n",
      "7 14 21 28 35 42 49 56 63 70 \t\t\n",
      "8 16 24 32 40 48 56 64 72 80 \t\t\n",
      "9 18 27 36 45 54 63 72 81 90 \t\t\n",
      "10 20 30 40 50 60 70 80 90 100 \t\t\n"
     ]
    }
   ],
   "source": [
    "#Exercise 13: Print multiplication table from 1 to 10\n",
    "for i in range(1,11):\n",
    "    for j in range(1,11):\n",
    "        print(i * j, end = \" \")\n",
    "    print(\"\\t\\t\")\n",
    "        "
   ]
  },
  {
   "cell_type": "code",
   "execution_count": 63,
   "id": "9f6630d1",
   "metadata": {},
   "outputs": [
    {
     "name": "stdout",
     "output_type": "stream",
     "text": [
      "* * * * *  \n",
      "* * * *  \n",
      "* * *  \n",
      "* *  \n",
      "*  \n",
      " \n"
     ]
    }
   ],
   "source": [
    "#Exercise 14: Print a downward Half-Pyramid Pattern of Star (asterisk)\n",
    "for i in range(6, 0,-1):\n",
    "    for j in range(0,i-1):\n",
    "        print(\"*\",end = \" \")\n",
    "    print(\" \")\n",
    "        \n",
    "        "
   ]
  },
  {
   "cell_type": "code",
   "execution_count": 64,
   "id": "b7d530bc",
   "metadata": {
    "scrolled": true
   },
   "outputs": [
    {
     "name": "stdout",
     "output_type": "stream",
     "text": [
      "*  \n",
      "* *  \n",
      "* * *  \n",
      "* * * *  \n",
      "* * * * *  \n"
     ]
    }
   ],
   "source": [
    "for i in range(1,6):\n",
    "    for j in range(i):\n",
    "        print(\"*\",end = \" \")\n",
    "    print(\" \")"
   ]
  },
  {
   "cell_type": "code",
   "execution_count": 4,
   "id": "d9c03176",
   "metadata": {},
   "outputs": [
    {
     "name": "stdout",
     "output_type": "stream",
     "text": [
      "Enter a Number9\n",
      "\n",
      "1 \n",
      "2 2 \n",
      "3 3 3 \n",
      "4 4 4 4 \n",
      "5 5 5 5 5 \n",
      "6 6 6 6 6 6 \n",
      "7 7 7 7 7 7 7 \n",
      "8 8 8 8 8 8 8 8 \n"
     ]
    }
   ],
   "source": [
    "#rows = 6\n",
    "rows = int(input(\"Enter a Number:\"))\n",
    "for i in range(rows):\n",
    "    for j in range(i):\n",
    "        print(i, end = \" \")\n",
    "    print(\"\")"
   ]
  },
  {
   "cell_type": "code",
   "execution_count": 42,
   "id": "e58b9318",
   "metadata": {},
   "outputs": [
    {
     "name": "stdout",
     "output_type": "stream",
     "text": [
      "1  \n",
      "1 2  \n",
      "1 2 3  \n",
      "1 2 3 4  \n",
      "1 2 3 4 5  \n"
     ]
    }
   ],
   "source": [
    "#Note: In each row, every next number is incremented by 1.\n",
    "\n",
    "rows = 5\n",
    "for i in range(1,rows + 1):\n",
    "    for j in range(1,i + 1):\n",
    "        print(j,end = \" \")\n",
    "    print(' ')"
   ]
  },
  {
   "cell_type": "code",
   "execution_count": 52,
   "id": "8c2ce5a2",
   "metadata": {},
   "outputs": [
    {
     "name": "stdout",
     "output_type": "stream",
     "text": [
      "1 2 3 4 5  \n",
      "1 2 3 4  \n",
      "1 2 3  \n",
      "1 2  \n"
     ]
    }
   ],
   "source": [
    "#An inverted pyramid is a downward pattern where numbers get reduced \n",
    "#in each iteration, and on the last row,\n",
    "#it shows only one number.\n",
    "rows = 5\n",
    "for i in range(rows, 1,-1 ):\n",
    "    for j in range(1,i + 1):\n",
    "        print(j,end = \" \")\n",
    "    print(' ')"
   ]
  },
  {
   "cell_type": "code",
   "execution_count": 37,
   "id": "f606a057",
   "metadata": {},
   "outputs": [
    {
     "name": "stdout",
     "output_type": "stream",
     "text": [
      "1  \n",
      "1 2  \n",
      "1 2 3  \n",
      "1 2 3 4  \n"
     ]
    }
   ],
   "source": [
    "#self sample\n",
    "rows = 5\n",
    "for i in range(1,rows ):\n",
    "    for j in range(1,i + 1):\n",
    "        print(j,end = \" \")\n",
    "    print(' ')"
   ]
  },
  {
   "cell_type": "code",
   "execution_count": 29,
   "id": "a4b15a8a",
   "metadata": {},
   "outputs": [
    {
     "name": "stdout",
     "output_type": "stream",
     "text": [
      "111111\r\n",
      "22222\r\n",
      "3333\r\n",
      "444\r\n",
      "55\r\n",
      "6\r\n"
     ]
    }
   ],
   "source": [
    "rows = 6\n",
    "b = 0\n",
    "for i in range(rows,0,-1):\n",
    "    b +=1\n",
    "    for j in range(1,i + 1):\n",
    "        print(b,end= '')\n",
    "    print('\\r')\n",
    "     "
   ]
  },
  {
   "cell_type": "code",
   "execution_count": 39,
   "id": "12b49e9a",
   "metadata": {},
   "outputs": [
    {
     "name": "stdout",
     "output_type": "stream",
     "text": [
      "1 2 3 4 5 6 \r\n",
      "1 2 3 4 5 \r\n",
      "1 2 3 4 \r\n",
      "1 2 3 \r\n",
      "1 2 \r\n",
      "1 \r\n"
     ]
    }
   ],
   "source": [
    "#inverse pyramind with printing the inner  loop\n",
    "rows = 6\n",
    "for i in range(rows,0,-1):\n",
    "    for j in range(1,i + 1):\n",
    "        print(j,end= ' ')\n",
    "    print('\\r')\n",
    "     "
   ]
  },
  {
   "cell_type": "code",
   "execution_count": 47,
   "id": "afca39e7",
   "metadata": {},
   "outputs": [
    {
     "name": "stdout",
     "output_type": "stream",
     "text": [
      "5 5 5 5 5 \r\n",
      "5 5 5 5 \r\n",
      "5 5 5 \r\n",
      "5 5 \r\n",
      "5 \r\n"
     ]
    }
   ],
   "source": [
    "#Inverted Pyramid pattern with the same digit\n",
    "rows = 5\n",
    "for i in range(rows,0,-1):\n",
    "    for j in range(0,i):\n",
    "        print(rows,end= ' ')\n",
    "    print('\\r')\n",
    "     "
   ]
  },
  {
   "cell_type": "code",
   "execution_count": 53,
   "id": "df0fb839",
   "metadata": {},
   "outputs": [
    {
     "name": "stdout",
     "output_type": "stream",
     "text": [
      "11111\r\n",
      "2222\r\n",
      "333\r\n",
      "44\r\n",
      "5\r\n"
     ]
    }
   ],
   "source": [
    "#Inverted pyramid pattern of numbers\n",
    "rows = 5\n",
    "b = 0\n",
    "for i in range(rows, 0,-1):\n",
    "    b += 1\n",
    "    for j in range(1,i + 1):\n",
    "        print(b, end= '')\n",
    "    print('\\r')"
   ]
  },
  {
   "cell_type": "code",
   "execution_count": 58,
   "id": "540c7f71",
   "metadata": {},
   "outputs": [
    {
     "name": "stdout",
     "output_type": "stream",
     "text": [
      "012345\r\n",
      "01234\r\n",
      "0123\r\n",
      "012\r\n",
      "01\r\n"
     ]
    }
   ],
   "source": [
    "#Another inverted half-pyramid pattern with a number\n",
    "rows = 5\n",
    "for i in range(rows, 0 , -1):\n",
    "    for j in range(0, i + 1):\n",
    "        print(j,end='')\n",
    "    print('\\r')\n"
   ]
  },
  {
   "cell_type": "code",
   "execution_count": 59,
   "id": "2491fd8e",
   "metadata": {},
   "outputs": [
    {
     "ename": "SyntaxError",
     "evalue": "unmatched ')' (3509213425.py, line 7)",
     "output_type": "error",
     "traceback": [
      "\u001b[1;36m  Cell \u001b[1;32mIn[59], line 7\u001b[1;36m\u001b[0m\n\u001b[1;33m    print(i * 2 -1), end = \" \")\u001b[0m\n\u001b[1;37m                              ^\u001b[0m\n\u001b[1;31mSyntaxError\u001b[0m\u001b[1;31m:\u001b[0m unmatched ')'\n"
     ]
    }
   ],
   "source": [
    "#Alternate numbers pattern using a while loop\n",
    "rows = 5\n",
    "i = 1\n",
    "while i < rows:\n",
    "    j = 1\n",
    "    while j <= i:\n",
    "        print(i * 2 -1), end = \" \")\n",
    "        j = j +1\n",
    "        i = i +1\n",
    "        print('')\n",
    "    "
   ]
  },
  {
   "cell_type": "code",
   "execution_count": null,
   "id": "46ca6747",
   "metadata": {},
   "outputs": [],
   "source": []
  }
 ],
 "metadata": {
  "kernelspec": {
   "display_name": "Python 3 (ipykernel)",
   "language": "python",
   "name": "python3"
  },
  "language_info": {
   "codemirror_mode": {
    "name": "ipython",
    "version": 3
   },
   "file_extension": ".py",
   "mimetype": "text/x-python",
   "name": "python",
   "nbconvert_exporter": "python",
   "pygments_lexer": "ipython3",
   "version": "3.11.5"
  }
 },
 "nbformat": 4,
 "nbformat_minor": 5
}
